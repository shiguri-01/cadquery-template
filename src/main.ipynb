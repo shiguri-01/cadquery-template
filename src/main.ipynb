{
 "cells": [
  {
   "cell_type": "markdown",
   "id": "0",
   "metadata": {},
   "source": [
    "## ライブラリのインポート"
   ]
  },
  {
   "cell_type": "code",
   "execution_count": null,
   "id": "1",
   "metadata": {},
   "outputs": [],
   "source": [
    "import cadquery as cq\n",
    "from ocp_vscode import show_object, set_port, set_defaults, Camera\n",
    "\n",
    "set_port(3939)\n",
    "# スクリプトを実行するたびにカメラ位置がリセットされないようにする\n",
    "set_defaults(reset_camera=Camera.KEEP)"
   ]
  },
  {
   "cell_type": "markdown",
   "id": "2",
   "metadata": {},
   "source": [
    "## 3Dモデルの作成"
   ]
  },
  {
   "cell_type": "code",
   "execution_count": null,
   "id": "3",
   "metadata": {},
   "outputs": [],
   "source": [
    "# 四角形の箱、サイズは 10x10x10mm\n",
    "box = cq.Workplane(\"XY\").box(10, 10, 10)\n",
    "show_object(\n",
    "    box,\n",
    "    name=\"box\",\n",
    ")"
   ]
  },
  {
   "cell_type": "markdown",
   "id": "4",
   "metadata": {},
   "source": [
    "## エクスポート"
   ]
  },
  {
   "cell_type": "code",
   "execution_count": null,
   "id": "5",
   "metadata": {},
   "outputs": [],
   "source": [
    "import os\n",
    "\n",
    "output_dir = \"../out\"\n",
    "file_name = \"box.stl\"\n",
    "output_path = os.path.join(output_dir, file_name)\n",
    "\n",
    "os.makedirs(output_dir, exist_ok=True)"
   ]
  },
  {
   "cell_type": "code",
   "execution_count": null,
   "id": "6",
   "metadata": {},
   "outputs": [],
   "source": [
    "cq.exporters.export(box, output_path)"
   ]
  }
 ],
 "metadata": {
  "kernelspec": {
   "display_name": "cadquery-demo-2",
   "language": "python",
   "name": "python3"
  },
  "language_info": {
   "codemirror_mode": {
    "name": "ipython",
    "version": 3
   },
   "file_extension": ".py",
   "mimetype": "text/x-python",
   "name": "python",
   "nbconvert_exporter": "python",
   "pygments_lexer": "ipython3",
   "version": "3.12.11"
  }
 },
 "nbformat": 4,
 "nbformat_minor": 5
}
